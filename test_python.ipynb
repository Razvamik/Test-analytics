{
 "cells": [
  {
   "cell_type": "code",
   "execution_count": 17,
   "metadata": {},
   "outputs": [],
   "source": [
    "import pandas as pd\n",
    "from tqdm import tqdm\n",
    "import numpy as np\n",
    "import matplotlib.pyplot as plt"
   ]
  },
  {
   "cell_type": "code",
   "execution_count": null,
   "metadata": {},
   "outputs": [],
   "source": [
    "\"\"\"По таблице из файла data.csv требуется посчитать количество случаев, когда простой \n",
    "транспортного средства между заказами составлял более 8 часов.\n",
    "\"\"\""
   ]
  },
  {
   "cell_type": "code",
   "execution_count": 18,
   "metadata": {},
   "outputs": [
    {
     "name": "stdout",
     "output_type": "stream",
     "text": [
      "<_io.TextIOWrapper name='data.csv' mode='r' encoding='cp1251'>\n"
     ]
    }
   ],
   "source": [
    "with open('data.csv') as f:\n",
    "    print(f)"
   ]
  },
  {
   "cell_type": "code",
   "execution_count": 19,
   "metadata": {
    "scrolled": false
   },
   "outputs": [
    {
     "data": {
      "text/html": [
       "<div>\n",
       "<style scoped>\n",
       "    .dataframe tbody tr th:only-of-type {\n",
       "        vertical-align: middle;\n",
       "    }\n",
       "\n",
       "    .dataframe tbody tr th {\n",
       "        vertical-align: top;\n",
       "    }\n",
       "\n",
       "    .dataframe thead th {\n",
       "        text-align: right;\n",
       "    }\n",
       "</style>\n",
       "<table border=\"1\" class=\"dataframe\">\n",
       "  <thead>\n",
       "    <tr style=\"text-align: right;\">\n",
       "      <th></th>\n",
       "      <th>route_id</th>\n",
       "      <th>order_id</th>\n",
       "      <th>truck_id</th>\n",
       "      <th>client_id</th>\n",
       "      <th>city_loading</th>\n",
       "      <th>city_unloading</th>\n",
       "      <th>datetime_loading_start_plan_order</th>\n",
       "      <th>datetime_loading_end_plan_order</th>\n",
       "      <th>datetime_unloading_start_plan_order</th>\n",
       "      <th>datetime_unloading_end_plan_order</th>\n",
       "      <th>datetime_loading_arrival_fact</th>\n",
       "      <th>datetime_loading_start_fact</th>\n",
       "      <th>datetime_loading_end_fact</th>\n",
       "      <th>datetime_loading_departure_fact</th>\n",
       "      <th>datetime_unloading_arrival_fact</th>\n",
       "      <th>datetime_unloading_start_fact</th>\n",
       "      <th>datetime_unloading_end_fact</th>\n",
       "      <th>datetime_unloading_departure_fact</th>\n",
       "    </tr>\n",
       "  </thead>\n",
       "  <tbody>\n",
       "    <tr>\n",
       "      <th>0</th>\n",
       "      <td>89629</td>\n",
       "      <td>199339</td>\n",
       "      <td>о031ск 750</td>\n",
       "      <td>15</td>\n",
       "      <td>Москва</td>\n",
       "      <td>Москва</td>\n",
       "      <td>31.05.2019 00:18</td>\n",
       "      <td>31.05.2019 03:18</td>\n",
       "      <td>31.05.2019 05:00</td>\n",
       "      <td>31.05.2019 07:00</td>\n",
       "      <td>31.05.2019 00:00</td>\n",
       "      <td>31.05.2019 00:00</td>\n",
       "      <td>31.05.2019 00:43</td>\n",
       "      <td>31.05.2019 00:43</td>\n",
       "      <td>31.05.2019 01:40</td>\n",
       "      <td>31.05.2019 01:40</td>\n",
       "      <td>31.05.2019 14:55</td>\n",
       "      <td>31.05.2019 15:26</td>\n",
       "    </tr>\n",
       "    <tr>\n",
       "      <th>1</th>\n",
       "      <td>89629</td>\n",
       "      <td>199804</td>\n",
       "      <td>о031ск 750</td>\n",
       "      <td>15</td>\n",
       "      <td>Москва</td>\n",
       "      <td>Москва</td>\n",
       "      <td>31.05.2019 07:00</td>\n",
       "      <td>31.05.2019 09:00</td>\n",
       "      <td>31.05.2019 10:48</td>\n",
       "      <td>31.05.2019 13:48</td>\n",
       "      <td>31.05.2019 01:40</td>\n",
       "      <td>31.05.2019 01:40</td>\n",
       "      <td>31.05.2019 14:55</td>\n",
       "      <td>31.05.2019 15:26</td>\n",
       "      <td>31.05.2019 16:42</td>\n",
       "      <td>31.05.2019 16:42</td>\n",
       "      <td>31.05.2019 16:42</td>\n",
       "      <td>31.05.2019 16:42</td>\n",
       "    </tr>\n",
       "    <tr>\n",
       "      <th>2</th>\n",
       "      <td>89619</td>\n",
       "      <td>198514</td>\n",
       "      <td>с724св 750</td>\n",
       "      <td>15</td>\n",
       "      <td>Москва</td>\n",
       "      <td>Москва</td>\n",
       "      <td>29.05.2019 14:24</td>\n",
       "      <td>29.05.2019 15:38</td>\n",
       "      <td>29.05.2019 19:00</td>\n",
       "      <td>29.05.2019 20:14</td>\n",
       "      <td>29.05.2019 13:14</td>\n",
       "      <td>29.05.2019 13:14</td>\n",
       "      <td>29.05.2019 17:15</td>\n",
       "      <td>29.05.2019 17:15</td>\n",
       "      <td>29.05.2019 20:28</td>\n",
       "      <td>29.05.2019 20:28</td>\n",
       "      <td>29.05.2019 21:58</td>\n",
       "      <td>29.05.2019 21:58</td>\n",
       "    </tr>\n",
       "    <tr>\n",
       "      <th>3</th>\n",
       "      <td>89619</td>\n",
       "      <td>198921</td>\n",
       "      <td>с724св 750</td>\n",
       "      <td>15</td>\n",
       "      <td>Москва</td>\n",
       "      <td>Москва</td>\n",
       "      <td>30.05.2019 14:06</td>\n",
       "      <td>30.05.2019 17:06</td>\n",
       "      <td>30.05.2019 20:00</td>\n",
       "      <td>30.05.2019 22:00</td>\n",
       "      <td>29.05.2019 23:49</td>\n",
       "      <td>30.05.2019 11:29</td>\n",
       "      <td>30.05.2019 12:55</td>\n",
       "      <td>30.05.2019 12:55</td>\n",
       "      <td>30.05.2019 15:38</td>\n",
       "      <td>30.05.2019 15:38</td>\n",
       "      <td>31.05.2019 01:02</td>\n",
       "      <td>31.05.2019 01:02</td>\n",
       "    </tr>\n",
       "    <tr>\n",
       "      <th>4</th>\n",
       "      <td>89619</td>\n",
       "      <td>199337</td>\n",
       "      <td>с724св 750</td>\n",
       "      <td>15</td>\n",
       "      <td>Москва</td>\n",
       "      <td>Москва</td>\n",
       "      <td>31.05.2019 12:46</td>\n",
       "      <td>31.05.2019 15:46</td>\n",
       "      <td>31.05.2019 17:40</td>\n",
       "      <td>31.05.2019 19:40</td>\n",
       "      <td>31.05.2019 03:58</td>\n",
       "      <td>31.05.2019 03:58</td>\n",
       "      <td>31.05.2019 06:20</td>\n",
       "      <td>31.05.2019 06:20</td>\n",
       "      <td>31.05.2019 15:00</td>\n",
       "      <td>31.05.2019 15:00</td>\n",
       "      <td>31.05.2019 20:50</td>\n",
       "      <td>31.05.2019 20:50</td>\n",
       "    </tr>\n",
       "    <tr>\n",
       "      <th>...</th>\n",
       "      <td>...</td>\n",
       "      <td>...</td>\n",
       "      <td>...</td>\n",
       "      <td>...</td>\n",
       "      <td>...</td>\n",
       "      <td>...</td>\n",
       "      <td>...</td>\n",
       "      <td>...</td>\n",
       "      <td>...</td>\n",
       "      <td>...</td>\n",
       "      <td>...</td>\n",
       "      <td>...</td>\n",
       "      <td>...</td>\n",
       "      <td>...</td>\n",
       "      <td>...</td>\n",
       "      <td>...</td>\n",
       "      <td>...</td>\n",
       "      <td>...</td>\n",
       "    </tr>\n",
       "    <tr>\n",
       "      <th>6043</th>\n",
       "      <td>62794</td>\n",
       "      <td>147060</td>\n",
       "      <td>к725мо 750</td>\n",
       "      <td>18</td>\n",
       "      <td>Москва</td>\n",
       "      <td>Санкт-Петербург</td>\n",
       "      <td>04.01.2019 22:00</td>\n",
       "      <td>05.01.2019 00:00</td>\n",
       "      <td>05.01.2019 22:00</td>\n",
       "      <td>06.01.2019 00:00</td>\n",
       "      <td>04.01.2019 18:00</td>\n",
       "      <td>04.01.2019 18:00</td>\n",
       "      <td>04.01.2019 20:00</td>\n",
       "      <td>04.01.2019 20:00</td>\n",
       "      <td>05.01.2019 20:30</td>\n",
       "      <td>05.01.2019 20:30</td>\n",
       "      <td>06.01.2019 10:40</td>\n",
       "      <td>06.01.2019 10:40</td>\n",
       "    </tr>\n",
       "    <tr>\n",
       "      <th>6044</th>\n",
       "      <td>62794</td>\n",
       "      <td>147793</td>\n",
       "      <td>к725мо 750</td>\n",
       "      <td>56</td>\n",
       "      <td>Санкт-Петербург</td>\n",
       "      <td>Москва</td>\n",
       "      <td>06.01.2019 12:00</td>\n",
       "      <td>06.01.2019 13:18</td>\n",
       "      <td>07.01.2019 11:00</td>\n",
       "      <td>07.01.2019 13:00</td>\n",
       "      <td>06.01.2019 11:50</td>\n",
       "      <td>06.01.2019 12:00</td>\n",
       "      <td>06.01.2019 18:00</td>\n",
       "      <td>06.01.2019 18:00</td>\n",
       "      <td>07.01.2019 15:00</td>\n",
       "      <td>07.01.2019 15:00</td>\n",
       "      <td>07.01.2019 15:30</td>\n",
       "      <td>07.01.2019 15:45</td>\n",
       "    </tr>\n",
       "    <tr>\n",
       "      <th>6045</th>\n",
       "      <td>62794</td>\n",
       "      <td>147937</td>\n",
       "      <td>к725мо 750</td>\n",
       "      <td>56</td>\n",
       "      <td>Владимир</td>\n",
       "      <td>Москва</td>\n",
       "      <td>07.01.2019 22:00</td>\n",
       "      <td>07.01.2019 23:18</td>\n",
       "      <td>08.01.2019 09:00</td>\n",
       "      <td>08.01.2019 11:00</td>\n",
       "      <td>07.01.2019 20:50</td>\n",
       "      <td>07.01.2019 21:40</td>\n",
       "      <td>07.01.2019 22:10</td>\n",
       "      <td>07.01.2019 22:30</td>\n",
       "      <td>08.01.2019 02:40</td>\n",
       "      <td>08.01.2019 09:00</td>\n",
       "      <td>08.01.2019 09:50</td>\n",
       "      <td>08.01.2019 09:55</td>\n",
       "    </tr>\n",
       "    <tr>\n",
       "      <th>6046</th>\n",
       "      <td>62789</td>\n",
       "      <td>145982</td>\n",
       "      <td>в637са 750</td>\n",
       "      <td>56</td>\n",
       "      <td>Самара</td>\n",
       "      <td>Москва</td>\n",
       "      <td>31.12.2018 16:00</td>\n",
       "      <td>31.12.2018 17:18</td>\n",
       "      <td>02.01.2019 09:00</td>\n",
       "      <td>02.01.2019 10:18</td>\n",
       "      <td>31.12.2018 09:00</td>\n",
       "      <td>31.12.2018 10:40</td>\n",
       "      <td>31.12.2018 12:30</td>\n",
       "      <td>31.12.2018 12:30</td>\n",
       "      <td>01.01.2019 23:00</td>\n",
       "      <td>02.01.2019 09:00</td>\n",
       "      <td>02.01.2019 11:10</td>\n",
       "      <td>02.01.2019 11:10</td>\n",
       "    </tr>\n",
       "    <tr>\n",
       "      <th>6047</th>\n",
       "      <td>62363</td>\n",
       "      <td>145984</td>\n",
       "      <td>в549са 750</td>\n",
       "      <td>56</td>\n",
       "      <td>Казань</td>\n",
       "      <td>Москва</td>\n",
       "      <td>31.12.2018 13:00</td>\n",
       "      <td>31.12.2018 14:18</td>\n",
       "      <td>02.01.2019 09:00</td>\n",
       "      <td>02.01.2019 11:00</td>\n",
       "      <td>31.12.2018 08:00</td>\n",
       "      <td>31.12.2018 11:00</td>\n",
       "      <td>31.12.2018 11:40</td>\n",
       "      <td>31.12.2018 11:45</td>\n",
       "      <td>01.01.2019 19:30</td>\n",
       "      <td>01.01.2019 19:40</td>\n",
       "      <td>01.01.2019 20:15</td>\n",
       "      <td>01.01.2019 20:15</td>\n",
       "    </tr>\n",
       "  </tbody>\n",
       "</table>\n",
       "<p>6048 rows × 18 columns</p>\n",
       "</div>"
      ],
      "text/plain": [
       "      route_id  order_id    truck_id  client_id     city_loading  \\\n",
       "0        89629    199339  о031ск 750         15           Москва   \n",
       "1        89629    199804  о031ск 750         15           Москва   \n",
       "2        89619    198514  с724св 750         15           Москва   \n",
       "3        89619    198921  с724св 750         15           Москва   \n",
       "4        89619    199337  с724св 750         15           Москва   \n",
       "...        ...       ...         ...        ...              ...   \n",
       "6043     62794    147060  к725мо 750         18           Москва   \n",
       "6044     62794    147793  к725мо 750         56  Санкт-Петербург   \n",
       "6045     62794    147937  к725мо 750         56         Владимир   \n",
       "6046     62789    145982  в637са 750         56           Самара   \n",
       "6047     62363    145984  в549са 750         56           Казань   \n",
       "\n",
       "       city_unloading datetime_loading_start_plan_order  \\\n",
       "0              Москва                  31.05.2019 00:18   \n",
       "1              Москва                  31.05.2019 07:00   \n",
       "2              Москва                  29.05.2019 14:24   \n",
       "3              Москва                  30.05.2019 14:06   \n",
       "4              Москва                  31.05.2019 12:46   \n",
       "...               ...                               ...   \n",
       "6043  Санкт-Петербург                  04.01.2019 22:00   \n",
       "6044           Москва                  06.01.2019 12:00   \n",
       "6045           Москва                  07.01.2019 22:00   \n",
       "6046           Москва                  31.12.2018 16:00   \n",
       "6047           Москва                  31.12.2018 13:00   \n",
       "\n",
       "     datetime_loading_end_plan_order datetime_unloading_start_plan_order  \\\n",
       "0                   31.05.2019 03:18                    31.05.2019 05:00   \n",
       "1                   31.05.2019 09:00                    31.05.2019 10:48   \n",
       "2                   29.05.2019 15:38                    29.05.2019 19:00   \n",
       "3                   30.05.2019 17:06                    30.05.2019 20:00   \n",
       "4                   31.05.2019 15:46                    31.05.2019 17:40   \n",
       "...                              ...                                 ...   \n",
       "6043                05.01.2019 00:00                    05.01.2019 22:00   \n",
       "6044                06.01.2019 13:18                    07.01.2019 11:00   \n",
       "6045                07.01.2019 23:18                    08.01.2019 09:00   \n",
       "6046                31.12.2018 17:18                    02.01.2019 09:00   \n",
       "6047                31.12.2018 14:18                    02.01.2019 09:00   \n",
       "\n",
       "     datetime_unloading_end_plan_order datetime_loading_arrival_fact  \\\n",
       "0                     31.05.2019 07:00              31.05.2019 00:00   \n",
       "1                     31.05.2019 13:48              31.05.2019 01:40   \n",
       "2                     29.05.2019 20:14              29.05.2019 13:14   \n",
       "3                     30.05.2019 22:00              29.05.2019 23:49   \n",
       "4                     31.05.2019 19:40              31.05.2019 03:58   \n",
       "...                                ...                           ...   \n",
       "6043                  06.01.2019 00:00              04.01.2019 18:00   \n",
       "6044                  07.01.2019 13:00              06.01.2019 11:50   \n",
       "6045                  08.01.2019 11:00              07.01.2019 20:50   \n",
       "6046                  02.01.2019 10:18              31.12.2018 09:00   \n",
       "6047                  02.01.2019 11:00              31.12.2018 08:00   \n",
       "\n",
       "     datetime_loading_start_fact datetime_loading_end_fact  \\\n",
       "0               31.05.2019 00:00          31.05.2019 00:43   \n",
       "1               31.05.2019 01:40          31.05.2019 14:55   \n",
       "2               29.05.2019 13:14          29.05.2019 17:15   \n",
       "3               30.05.2019 11:29          30.05.2019 12:55   \n",
       "4               31.05.2019 03:58          31.05.2019 06:20   \n",
       "...                          ...                       ...   \n",
       "6043            04.01.2019 18:00          04.01.2019 20:00   \n",
       "6044            06.01.2019 12:00          06.01.2019 18:00   \n",
       "6045            07.01.2019 21:40          07.01.2019 22:10   \n",
       "6046            31.12.2018 10:40          31.12.2018 12:30   \n",
       "6047            31.12.2018 11:00          31.12.2018 11:40   \n",
       "\n",
       "     datetime_loading_departure_fact datetime_unloading_arrival_fact  \\\n",
       "0                   31.05.2019 00:43                31.05.2019 01:40   \n",
       "1                   31.05.2019 15:26                31.05.2019 16:42   \n",
       "2                   29.05.2019 17:15                29.05.2019 20:28   \n",
       "3                   30.05.2019 12:55                30.05.2019 15:38   \n",
       "4                   31.05.2019 06:20                31.05.2019 15:00   \n",
       "...                              ...                             ...   \n",
       "6043                04.01.2019 20:00                05.01.2019 20:30   \n",
       "6044                06.01.2019 18:00                07.01.2019 15:00   \n",
       "6045                07.01.2019 22:30                08.01.2019 02:40   \n",
       "6046                31.12.2018 12:30                01.01.2019 23:00   \n",
       "6047                31.12.2018 11:45                01.01.2019 19:30   \n",
       "\n",
       "     datetime_unloading_start_fact datetime_unloading_end_fact  \\\n",
       "0                 31.05.2019 01:40            31.05.2019 14:55   \n",
       "1                 31.05.2019 16:42            31.05.2019 16:42   \n",
       "2                 29.05.2019 20:28            29.05.2019 21:58   \n",
       "3                 30.05.2019 15:38            31.05.2019 01:02   \n",
       "4                 31.05.2019 15:00            31.05.2019 20:50   \n",
       "...                            ...                         ...   \n",
       "6043              05.01.2019 20:30            06.01.2019 10:40   \n",
       "6044              07.01.2019 15:00            07.01.2019 15:30   \n",
       "6045              08.01.2019 09:00            08.01.2019 09:50   \n",
       "6046              02.01.2019 09:00            02.01.2019 11:10   \n",
       "6047              01.01.2019 19:40            01.01.2019 20:15   \n",
       "\n",
       "     datetime_unloading_departure_fact  \n",
       "0                     31.05.2019 15:26  \n",
       "1                     31.05.2019 16:42  \n",
       "2                     29.05.2019 21:58  \n",
       "3                     31.05.2019 01:02  \n",
       "4                     31.05.2019 20:50  \n",
       "...                                ...  \n",
       "6043                  06.01.2019 10:40  \n",
       "6044                  07.01.2019 15:45  \n",
       "6045                  08.01.2019 09:55  \n",
       "6046                  02.01.2019 11:10  \n",
       "6047                  01.01.2019 20:15  \n",
       "\n",
       "[6048 rows x 18 columns]"
      ]
     },
     "execution_count": 19,
     "metadata": {},
     "output_type": "execute_result"
    }
   ],
   "source": [
    "data = pd.read_csv('data.csv', encoding='cp1251', sep=';')\n",
    "data"
   ]
  },
  {
   "cell_type": "code",
   "execution_count": 20,
   "metadata": {},
   "outputs": [
    {
     "data": {
      "text/plain": [
       "route_id                               0\n",
       "order_id                               0\n",
       "truck_id                               0\n",
       "client_id                              0\n",
       "city_loading                           0\n",
       "city_unloading                         0\n",
       "datetime_loading_start_plan_order      0\n",
       "datetime_loading_end_plan_order        0\n",
       "datetime_unloading_start_plan_order    0\n",
       "datetime_unloading_end_plan_order      0\n",
       "datetime_loading_arrival_fact          0\n",
       "datetime_loading_start_fact            0\n",
       "datetime_loading_end_fact              0\n",
       "datetime_loading_departure_fact        0\n",
       "datetime_unloading_arrival_fact        0\n",
       "datetime_unloading_start_fact          0\n",
       "datetime_unloading_end_fact            0\n",
       "datetime_unloading_departure_fact      0\n",
       "dtype: int64"
      ]
     },
     "execution_count": 20,
     "metadata": {},
     "output_type": "execute_result"
    }
   ],
   "source": [
    "data.isna().sum()"
   ]
  },
  {
   "cell_type": "code",
   "execution_count": 21,
   "metadata": {},
   "outputs": [
    {
     "data": {
      "text/plain": [
       "route_id                                968\n",
       "order_id                               6048\n",
       "truck_id                                118\n",
       "client_id                                44\n",
       "city_loading                             37\n",
       "city_unloading                           45\n",
       "datetime_loading_start_plan_order      3644\n",
       "datetime_loading_end_plan_order        3998\n",
       "datetime_unloading_start_plan_order    3361\n",
       "datetime_unloading_end_plan_order      3461\n",
       "datetime_loading_arrival_fact          5338\n",
       "datetime_loading_start_fact            5362\n",
       "datetime_loading_end_fact              5538\n",
       "datetime_loading_departure_fact        5542\n",
       "datetime_unloading_arrival_fact        5357\n",
       "datetime_unloading_start_fact          5327\n",
       "datetime_unloading_end_fact            5307\n",
       "datetime_unloading_departure_fact      5335\n",
       "dtype: int64"
      ]
     },
     "execution_count": 21,
     "metadata": {},
     "output_type": "execute_result"
    }
   ],
   "source": [
    "data.nunique()"
   ]
  },
  {
   "cell_type": "code",
   "execution_count": 22,
   "metadata": {},
   "outputs": [
    {
     "data": {
      "text/plain": [
       "route_id                                int64\n",
       "order_id                                int64\n",
       "truck_id                               object\n",
       "client_id                               int64\n",
       "city_loading                           object\n",
       "city_unloading                         object\n",
       "datetime_loading_start_plan_order      object\n",
       "datetime_loading_end_plan_order        object\n",
       "datetime_unloading_start_plan_order    object\n",
       "datetime_unloading_end_plan_order      object\n",
       "datetime_loading_arrival_fact          object\n",
       "datetime_loading_start_fact            object\n",
       "datetime_loading_end_fact              object\n",
       "datetime_loading_departure_fact        object\n",
       "datetime_unloading_arrival_fact        object\n",
       "datetime_unloading_start_fact          object\n",
       "datetime_unloading_end_fact            object\n",
       "datetime_unloading_departure_fact      object\n",
       "dtype: object"
      ]
     },
     "execution_count": 22,
     "metadata": {},
     "output_type": "execute_result"
    }
   ],
   "source": [
    "data.dtypes"
   ]
  },
  {
   "cell_type": "code",
   "execution_count": 23,
   "metadata": {},
   "outputs": [
    {
     "name": "stderr",
     "output_type": "stream",
     "text": [
      "100%|██████████████████████████████████████████████████████████████████████████████████| 12/12 [00:00<00:00, 85.94it/s]\n"
     ]
    }
   ],
   "source": [
    "columns = list(data.columns.values)[6:len(list(data.columns.values))]\n",
    "\n",
    "for i in tqdm(columns):\n",
    "    data[i] = pd.to_datetime(data[i], infer_datetime_format=True) # преобразуем даты"
   ]
  },
  {
   "cell_type": "code",
   "execution_count": 24,
   "metadata": {
    "scrolled": false
   },
   "outputs": [
    {
     "data": {
      "text/plain": [
       "route_id                                        int64\n",
       "order_id                                        int64\n",
       "truck_id                                       object\n",
       "client_id                                       int64\n",
       "city_loading                                   object\n",
       "city_unloading                                 object\n",
       "datetime_loading_start_plan_order      datetime64[ns]\n",
       "datetime_loading_end_plan_order        datetime64[ns]\n",
       "datetime_unloading_start_plan_order    datetime64[ns]\n",
       "datetime_unloading_end_plan_order      datetime64[ns]\n",
       "datetime_loading_arrival_fact          datetime64[ns]\n",
       "datetime_loading_start_fact            datetime64[ns]\n",
       "datetime_loading_end_fact              datetime64[ns]\n",
       "datetime_loading_departure_fact        datetime64[ns]\n",
       "datetime_unloading_arrival_fact        datetime64[ns]\n",
       "datetime_unloading_start_fact          datetime64[ns]\n",
       "datetime_unloading_end_fact            datetime64[ns]\n",
       "datetime_unloading_departure_fact      datetime64[ns]\n",
       "dtype: object"
      ]
     },
     "execution_count": 24,
     "metadata": {},
     "output_type": "execute_result"
    }
   ],
   "source": [
    "data.dtypes"
   ]
  },
  {
   "cell_type": "code",
   "execution_count": null,
   "metadata": {},
   "outputs": [],
   "source": [
    "\"\"\"Что считать простоем и по каким датами в задании не указано. Поэтому, я посчитал период между \n",
    "фактическим временем убытия с разгрузки и фактическим прибытием на следующую погрузку.\n",
    "\"\"\""
   ]
  },
  {
   "cell_type": "code",
   "execution_count": 25,
   "metadata": {
    "scrolled": true
   },
   "outputs": [],
   "source": [
    "# сортируем\n",
    "data = data.sort_values(by=['truck_id', 'datetime_loading_arrival_fact','datetime_unloading_departure_fact'], ascending=True)\n",
    "# дата следующей погрузки для вычисления простоя\n",
    "data['datetime_next_loading_arrival_fact']=data['datetime_loading_arrival_fact'].shift(periods=-1) \n",
    "# гос. рег. номер автомобиля для определения стыков\n",
    "data['truck_id_shifted']=data['truck_id'].shift(periods=-1)"
   ]
  },
  {
   "cell_type": "code",
   "execution_count": 26,
   "metadata": {
    "scrolled": true
   },
   "outputs": [],
   "source": [
    "# считаем секунды, переводим в часы, округляем\n",
    "data['dead_time']=((data['datetime_next_loading_arrival_fact'] - \n",
    "                    data['datetime_unloading_departure_fact']).dt.total_seconds()/3600).round(decimals=2)"
   ]
  },
  {
   "cell_type": "code",
   "execution_count": 27,
   "metadata": {},
   "outputs": [
    {
     "data": {
      "text/plain": [
       "route_id                               0\n",
       "order_id                               0\n",
       "truck_id                               0\n",
       "client_id                              0\n",
       "city_loading                           0\n",
       "city_unloading                         0\n",
       "datetime_loading_start_plan_order      0\n",
       "datetime_loading_end_plan_order        0\n",
       "datetime_unloading_start_plan_order    0\n",
       "datetime_unloading_end_plan_order      0\n",
       "datetime_loading_arrival_fact          0\n",
       "datetime_loading_start_fact            0\n",
       "datetime_loading_end_fact              0\n",
       "datetime_loading_departure_fact        0\n",
       "datetime_unloading_arrival_fact        0\n",
       "datetime_unloading_start_fact          0\n",
       "datetime_unloading_end_fact            0\n",
       "datetime_unloading_departure_fact      0\n",
       "datetime_next_loading_arrival_fact     1\n",
       "truck_id_shifted                       1\n",
       "dead_time                              1\n",
       "dtype: int64"
      ]
     },
     "execution_count": 27,
     "metadata": {},
     "output_type": "execute_result"
    }
   ],
   "source": [
    "data.isna().sum() # данные по последнему рейсу остаются неполными"
   ]
  },
  {
   "cell_type": "code",
   "execution_count": 28,
   "metadata": {},
   "outputs": [],
   "source": [
    "# складываем в df все случаи с простоем более 8 часов\n",
    "# если необходимо считать простои более или равные 8 часам, поменять >8 на >=8\n",
    "df = data.loc[(data['dead_time']>8) & (data['truck_id_shifted']==data['truck_id'])] "
   ]
  },
  {
   "cell_type": "code",
   "execution_count": 33,
   "metadata": {
    "scrolled": true
   },
   "outputs": [
    {
     "data": {
      "image/png": "[encoded data removed]",
      "text/plain": [
       "<Figure size 432x288 with 1 Axes>"
      ]
     },
     "metadata": {
      "needs_background": "light"
     },
     "output_type": "display_data"
    }
   ],
   "source": [
    "bins = np.arange(0, 100, 0.5)\n",
    "plt.hist(df['dead_time'], bins=bins, alpha=1)\n",
    "plt.title('Количество простоев по часам')\n",
    "plt.xlabel('Часы')\n",
    "plt.ylabel('Количество')\n",
    "plt.show()"
   ]
  },
  {
   "cell_type": "code",
   "execution_count": 32,
   "metadata": {},
   "outputs": [
    {
     "data": {
      "text/plain": [
       "37.56613756613756"
      ]
     },
     "execution_count": 32,
     "metadata": {},
     "output_type": "execute_result"
    }
   ],
   "source": [
    "# % рейсов с простоем\n",
    "len(df['order_id'])/len(data['order_id'])*100"
   ]
  },
  {
   "cell_type": "code",
   "execution_count": 31,
   "metadata": {},
   "outputs": [
    {
     "name": "stdout",
     "output_type": "stream",
     "text": [
      "Количество случаев, когда простой транспортного средства между заказами составлял более 8 часов: 2272\n"
     ]
    }
   ],
   "source": [
    "print('Количество случаев, когда простой транспортного средства между заказами составлял более 8 часов:', len(df['dead_time']))"
   ]
  },
  {
   "cell_type": "code",
   "execution_count": 71,
   "metadata": {},
   "outputs": [],
   "source": [
    "df.to_excel(\"result.xlsx\") # выгружаем список случаев с простоем"
   ]
  }
 ],
 "metadata": {
  "kernelspec": {
   "display_name": "Python 3",
   "language": "python",
   "name": "python3"
  },
  "language_info": {
   "codemirror_mode": {
    "name": "ipython",
    "version": 3
   },
   "file_extension": ".py",
   "mimetype": "text/x-python",
   "name": "python",
   "nbconvert_exporter": "python",
   "pygments_lexer": "ipython3",
   "version": "3.8.5"
  }
 },
 "nbformat": 4,
 "nbformat_minor": 5
}
